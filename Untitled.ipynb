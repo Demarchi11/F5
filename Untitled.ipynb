{
  "nbformat": 4,
  "nbformat_minor": 0,
  "metadata": {
    "colab": {
      "provenance": []
    },
    "kernelspec": {
      "name": "python3",
      "display_name": "Python 3"
    },
    "language_info": {
      "name": "python"
    }
  },
  "cells": [
    {
      "cell_type": "code",
      "execution_count": 1,
      "metadata": {
        "id": "79gfr9iXIedD",
        "outputId": "4f403870-dcb7-4b9e-8d9d-1d9a8ef79f7a",
        "colab": {
          "base_uri": "https://localhost:8080/"
        }
      },
      "outputs": [
        {
          "output_type": "stream",
          "name": "stdout",
          "text": [
            "Digite seu usuário: luis\n",
            "Digite sua senha: 1123\n",
            "Acesso permitido\n",
            "Seja bem-vindo(a), luis!\n"
          ]
        }
      ],
      "source": [
        "import numpy as np\n",
        "\n",
        "v_usuario = np.array([\"luis\", \"gaby\", \"maria\"])\n",
        "v_senhas = np.array([\"1123\", \"1234\", \"12345\"])\n",
        "\n",
        "tentativas = 1\n",
        "\n",
        "while tentativas <= 3:\n",
        "  usuario_logado = input(\"Digite seu usuário: \")\n",
        "  senha_logada = input(\"Digite sua senha: \")\n",
        "\n",
        "  # Verifica se o usuário existe no vetor\n",
        "  if usuario_logado in v_usuario:\n",
        "    # Pega o índice do usuário\n",
        "    indice = np.where(v_usuario == usuario_logado)[0][0]\n",
        "    # Verifica se a senha no mesmo índice corresponde\n",
        "    if v_senhas[indice] == senha_logada:\n",
        "      print(f\"Acesso permitido\\nSeja bem-vindo(a), {usuario_logado}!\")\n",
        "      break\n",
        "    else:\n",
        "      print(\"Senha incorreta.\")\n",
        "  else:\n",
        "    print(\"Usuário não encontrado.\")\n",
        "\n",
        "  tentativas += 1\n",
        "\n",
        "if tentativas > 3:\n",
        "  print(\"Número de tentativas excedido. Acesso bloqueado.\")"
      ]
    }
  ]
}