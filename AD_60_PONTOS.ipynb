{
  "nbformat": 4,
  "nbformat_minor": 0,
  "metadata": {
    "colab": {
      "provenance": []
    },
    "kernelspec": {
      "name": "python3",
      "display_name": "Python 3"
    },
    "language_info": {
      "name": "python"
    }
  },
  "cells": [
    {
      "cell_type": "code",
      "execution_count": null,
      "metadata": {
        "colab": {
          "base_uri": "https://localhost:8080/"
        },
        "id": "c_aLnAvA52jm",
        "outputId": "23c8bddf-b87a-41ba-a079-3784e4eb5640"
      },
      "outputs": [
        {
          "output_type": "stream",
          "name": "stdout",
          "text": [
            "\n",
            "=== MENU E-COMMERCE ===\n",
            "1. Login\n",
            "2. Logout\n",
            "3. Sair\n",
            "Escolha uma opção: 1\n",
            " E-mail: cliente1@loja.com\n",
            " Senha: senha123\n",
            "\n",
            " Login bem-sucedido! Bem-vindo(a), cliente1@loja.com\n",
            "\n",
            "=== MENU E-COMMERCE ===\n",
            "1. Login\n",
            "2. Logout\n",
            "3. Sair\n",
            "Escolha uma opção: K\n",
            "\n",
            " Opção inválida. Tente novamente.\n",
            "\n",
            "=== MENU E-COMMERCE ===\n",
            "1. Login\n",
            "2. Logout\n",
            "3. Sair\n",
            "Escolha uma opção: K\n",
            "\n",
            " Opção inválida. Tente novamente.\n",
            "\n",
            "=== MENU E-COMMERCE ===\n",
            "1. Login\n",
            "2. Logout\n",
            "3. Sair\n",
            "Escolha uma opção: Ç\n",
            "\n",
            " Opção inválida. Tente novamente.\n",
            "\n",
            "=== MENU E-COMMERCE ===\n",
            "1. Login\n",
            "2. Logout\n",
            "3. Sair\n",
            "Escolha uma opção: L\n",
            "\n",
            " Opção inválida. Tente novamente.\n",
            "\n",
            "=== MENU E-COMMERCE ===\n",
            "1. Login\n",
            "2. Logout\n",
            "3. Sair\n",
            "Escolha uma opção: J\n",
            "\n",
            " Opção inválida. Tente novamente.\n",
            "\n",
            "=== MENU E-COMMERCE ===\n",
            "1. Login\n",
            "2. Logout\n",
            "3. Sair\n",
            "Escolha uma opção: O\n",
            "\n",
            " Opção inválida. Tente novamente.\n",
            "\n",
            "=== MENU E-COMMERCE ===\n",
            "1. Login\n",
            "2. Logout\n",
            "3. Sair\n",
            "Escolha uma opção: O\n",
            "\n",
            " Opção inválida. Tente novamente.\n",
            "\n",
            "=== MENU E-COMMERCE ===\n",
            "1. Login\n",
            "2. Logout\n",
            "3. Sair\n"
          ]
        }
      ],
      "source": [
        "\n",
        "\n",
        "\n",
        "emails = [\"cliente1@loja.com\", \"cliente2@loja.com\"]\n",
        "senhas = [\"senha123\", \"abc456\"]\n",
        "\n",
        "\n",
        "\n",
        ""
      ]
    }
  ]
}